{
 "cells": [
  {
   "cell_type": "code",
   "execution_count": 4,
   "metadata": {},
   "outputs": [],
   "source": [
    "from bs4 import BeautifulSoup\n",
    "import requests\n",
    "from selenium import webdriver\n",
    "from selenium.webdriver.chrome.options import Options\n",
    "from selenium.webdriver.support.ui import WebDriverWait\n",
    "from selenium.webdriver.common.by import By\n",
    "from selenium.webdriver.support import expected_conditions as EC\n",
    "from webdriver_manager.chrome import ChromeDriverManager"
   ]
  },
  {
   "cell_type": "code",
   "execution_count": 2,
   "metadata": {},
   "outputs": [],
   "source": [
    "url='https://www.adac.de/rund-ums-fahrzeug/autokatalog/marken-modelle/ford/kuga/iii/310380/'\n",
    "\n",
    "page = requests.get(url)"
   ]
  },
  {
   "cell_type": "code",
   "execution_count": 3,
   "metadata": {},
   "outputs": [
    {
     "name": "stdout",
     "output_type": "stream",
     "text": [
      "Brand and Model of the car is: Ford Kuga 1.5 EcoBoost ST-Line X (04/20 - 09/20)\n",
      "Testergebnis: April 2021\n"
     ]
    }
   ],
   "source": [
    "if page.status_code == 200:\n",
    "    \n",
    "    soup = BeautifulSoup(page.text, 'html5lib')\n",
    "    portal_element=soup.find('div', id='portal')\n",
    "    car_title= portal_element.find(class_=\"sc-bUKjYF khWKPA\").find('h1').get_text()\n",
    "    print(\"Brand and Model of the car is: \" + car_title)\n",
    "    \n",
    "    general_data=portal_element.find('div', class_=\"sc-sSlZS jgTybe\")\n",
    "    \n",
    "    general_elements=general_data.find('div', class_=\"sc-eSxRXt sc-aaqME hTGWXN itVlFP\").find('div', class_=\"sc-kOJRsK sc-ojmzf eNlbFL inLgbi\")\n",
    "    for element in general_elements.find_all('a'):\n",
    "        for text in element.find_all('p'):\n",
    "            text.get_text()\n",
    "    \n",
    "    test_result=general_data.find('div', class_=\"sc-eSxRXt sc-aaqME sc-gNUafA wROml itVlFP kULHUp\")\n",
    "    test_result_text=test_result.find('h2').get_text()\n",
    "    test_result_date=test_result.find('p').get_text()\n",
    "    print(test_result_text + \": \" + test_result_date)\n",
    "    \n",
    "    tab_data=general_data.find('dl')\n",
    "    tab_texts=[data.get_text() for data in tab_data.find_all(\"div\",class_=\"sc-fUCuFg hQyzTx\")]\n",
    "    "
   ]
  },
  {
   "cell_type": "code",
   "execution_count": 9,
   "metadata": {},
   "outputs": [
    {
     "name": "stderr",
     "output_type": "stream",
     "text": [
      "\n",
      "\n",
      "====== WebDriver manager ======\n",
      "Current google-chrome version is 100.0.4896\n",
      "Get LATEST chromedriver version for 100.0.4896 google-chrome\n",
      "Driver [C:\\Users\\Usama\\.wdm\\drivers\\chromedriver\\win32\\100.0.4896.60\\chromedriver.exe] found in cache\n",
      "<ipython-input-9-2577769d6030>:7: DeprecationWarning: executable_path has been deprecated, please pass in a Service object\n",
      "  driver = webdriver.Chrome(ChromeDriverManager().install())\n"
     ]
    }
   ],
   "source": [
    "options = Options()\n",
    "options.headless = True\n",
    "options.add_argument(\"--window-size=1920,1200\")\n",
    "\n",
    "url='https://www.adac.de/rund-ums-fahrzeug/autokatalog/marken-modelle/ford/kuga/iii/310380/'\n",
    "\n",
    "driver = webdriver.Chrome(ChromeDriverManager().install())\n",
    "driver.get(url)\n",
    "\n",
    "#driver.execute_script(\"arguments[0].click();\", WebDriverWait(driver, 20).until(EC.element_to_be_clickable((By.CSS_SELECTOR, \"label[for='tab-target-group']\"))))\n",
    "#current_price = driver.find_element(\"//div[@id='portal']\")\n",
    "#print(current_price)\n",
    "#print(driver.page_source)\n"
   ]
  },
  {
   "cell_type": "code",
   "execution_count": 10,
   "metadata": {},
   "outputs": [
    {
     "ename": "NameError",
     "evalue": "name 'time' is not defined",
     "output_type": "error",
     "traceback": [
      "\u001b[1;31m---------------------------------------------------------------------------\u001b[0m",
      "\u001b[1;31mNameError\u001b[0m                                 Traceback (most recent call last)",
      "\u001b[1;32m<ipython-input-10-271fd3a7e52e>\u001b[0m in \u001b[0;36m<module>\u001b[1;34m\u001b[0m\n\u001b[0;32m      1\u001b[0m \u001b[0mdriver\u001b[0m\u001b[1;33m.\u001b[0m\u001b[0mexecute_script\u001b[0m\u001b[1;33m(\u001b[0m\u001b[1;34m\"window.scrollTo(0, document.body.scrollHeight);\"\u001b[0m\u001b[1;33m)\u001b[0m\u001b[1;33m\u001b[0m\u001b[1;33m\u001b[0m\u001b[0m\n\u001b[1;32m----> 2\u001b[1;33m \u001b[0mtime\u001b[0m\u001b[1;33m.\u001b[0m\u001b[0msleep\u001b[0m\u001b[1;33m(\u001b[0m\u001b[1;36m5\u001b[0m\u001b[1;33m)\u001b[0m\u001b[1;33m\u001b[0m\u001b[1;33m\u001b[0m\u001b[0m\n\u001b[0m",
      "\u001b[1;31mNameError\u001b[0m: name 'time' is not defined"
     ]
    }
   ],
   "source": [
    "driver.execute_script(\"window.scrollTo(0, document.body.scrollHeight);\")\n",
    "time.sleep(5)"
   ]
  },
  {
   "cell_type": "code",
   "execution_count": 205,
   "metadata": {},
   "outputs": [],
   "source": [
    "import os\n",
    "import selenium\n",
    "from selenium import webdriver\n",
    "import time\n",
    "import io\n",
    "import requests\n",
    "from webdriver_manager.chrome import ChromeDriverManager\n",
    "from selenium.common.exceptions import ElementClickInterceptedException\n"
   ]
  },
  {
   "cell_type": "code",
   "execution_count": 206,
   "metadata": {},
   "outputs": [
    {
     "name": "stderr",
     "output_type": "stream",
     "text": [
      "\n",
      "\n",
      "====== WebDriver manager ======\n",
      "Current google-chrome version is 100.0.4896\n",
      "Get LATEST chromedriver version for 100.0.4896 google-chrome\n",
      "Driver [C:\\Users\\Usama\\.wdm\\drivers\\chromedriver\\win32\\100.0.4896.60\\chromedriver.exe] found in cache\n",
      "<ipython-input-206-c38f0ba91227>:5: DeprecationWarning: executable_path has been deprecated, please pass in a Service object\n",
      "  driver = webdriver.Chrome(ChromeDriverManager().install() ,options=opts)\n"
     ]
    }
   ],
   "source": [
    "#Install driver\n",
    "opts=webdriver.ChromeOptions()\n",
    "opts.headless=True\n",
    "\n",
    "driver = webdriver.Chrome(ChromeDriverManager().install() ,options=opts)"
   ]
  },
  {
   "cell_type": "code",
   "execution_count": 207,
   "metadata": {},
   "outputs": [],
   "source": [
    "url='https://www.adac.de/rund-ums-fahrzeug/autokatalog/marken-modelle/ford/kuga/iii/310380/'\n",
    "driver.get(url)"
   ]
  },
  {
   "cell_type": "code",
   "execution_count": 208,
   "metadata": {},
   "outputs": [],
   "source": [
    "def scroll_to_end(driver):\n",
    "    driver.execute_script(\"window.scrollTo(0, document.body.scrollHeight);\")\n",
    "    time.sleep(5)#sleep_between_interactions"
   ]
  },
  {
   "cell_type": "code",
   "execution_count": 209,
   "metadata": {},
   "outputs": [],
   "source": [
    "def ratings():\n",
    "    a={}\n",
    "    testresult_rating=driver.find_elements(By.XPATH, \"//dl[@class='sc-hatQeL bGVFHQ']/div\")\n",
    "    for item in testresult_rating[1:]:\n",
    "        data=item.text.split('\\n')\n",
    "        a[data[0]]=data[1]\n",
    "    return a"
   ]
  },
  {
   "cell_type": "code",
   "execution_count": 217,
   "metadata": {},
   "outputs": [],
   "source": [
    "def actual_rating():\n",
    "    b={}\n",
    "    actual_rating=driver.find_elements(By.XPATH, \"//div[@class='sc-cCKzRf iHQIhw sc-iNpzLj icBbah']/div\")\n",
    "    for item in actual_rating:\n",
    "        data=item.text.split('\\n')\n",
    "        b[data[0]]=data[1]\n",
    "    return b"
   ]
  },
  {
   "cell_type": "code",
   "execution_count": 231,
   "metadata": {},
   "outputs": [],
   "source": [
    "def strength_weakness():\n",
    "    c={}\n",
    "    strength_weakness = driver.find_elements(By.XPATH, \"//div[@class='sc-iRFsWr sc-eZhRLC sc-kudmJA gnrIkT gPaWAU iJATmX']/div\")\n",
    "    for item in strength_weakness:\n",
    "        data=item.text.split('\\n')\n",
    "        c[data[0]] = data[1:]\n",
    "    return c"
   ]
  },
  {
   "cell_type": "code",
   "execution_count": 238,
   "metadata": {},
   "outputs": [
    {
     "name": "stdout",
     "output_type": "stream",
     "text": [
      "{'Karosserie/Kofferraum': '2,5', 'Innenraum': '2,1', 'Komfort': '2,5', 'Motor/Antrieb': '1,9', 'Fahreigenschaften': '2,4', 'Sicherheit': '1,6', 'Umwelt/EcoTest': '3,1', 'ADAC Urteil Autotest': '2,3', 'Autokosten': '2,5'}\n",
      "{'Familie': '2,4', 'Stadtverkehr': '4,3', 'Senioren': '3,1', 'Langstrecke': '2,6', 'Transport': '2,3', 'Fahrspaß': '3,1', 'Preis/Leistung': '2,4', 'ADAC Urteil Autotest': '2,3', 'Autokosten': '2,5'}\n",
      "{'sehr gut': '0,6 - 1,5', 'gut': '1,6 - 2,5', 'befriedigend': '2,6 - 3,5', 'ausreichend': '3,6 - 4,5', 'mangelhaft': '4,6 - 5,5'}\n",
      "{'Stärken': ['Navigationssystem Serie', 'praktischer Türkantenschutz', 'umfangreiche Sicherheitsausstattung'], 'Schwächen': ['im Grenzbereich zu starkes Untersteuern, besteht ADAC Ausweichtest nicht', 'hoher Verbrauch']}\n",
      "{'Auswahl ähnlicher Modelle': ['Audi Q3', 'VW Tiguan', 'KIA Sportage', 'Infiniti QX30']}\n"
     ]
    }
   ],
   "source": [
    "scroll_to_end(driver)\n",
    "car_title=driver.find_element(By.XPATH, \"//h1\").text\n",
    "#print(\"Brand and Model of the car is: \" + car_title)\n",
    " \n",
    "element_text= [element.text for element in driver.find_elements(By.XPATH,  \"//*[contains(@class, 'sc-bdvvtL goIptw sc-gsDKAQ sc-hXLIYv hIxhWw gDkLYR')]\")]    \n",
    "#print(element_text)\n",
    "\n",
    "test_result_text=driver.find_element(By.XPATH, \"//div[@class='sc-eSxRXt sc-aaqME sc-gNUafA wROml itVlFP kULHUp']/h2\").text\n",
    "test_result_date=driver.find_element(By.XPATH, \"//div[@class='sc-eSxRXt sc-aaqME sc-gNUafA wROml itVlFP kULHUp']/p\").text\n",
    "\n",
    "\n",
    "tab_texts=[text.text for text in driver.find_elements(By.XPATH,  \"//*[contains(@class, 'sc-fUCuFg hQyzTx')]\")]\n",
    "#print(tab_texts)\n",
    "\n",
    "\n",
    "\n",
    "\n",
    "driver.execute_script(\"arguments[0].click();\", WebDriverWait(driver, 20).until(EC.element_to_be_clickable((By.CSS_SELECTOR, \"label[for='tab-test-results']\"))))\n",
    "\n",
    "test_result_rating=ratings()\n",
    "print(test_result_rating)\n",
    "\n",
    "\n",
    "driver.execute_script(\"arguments[0].click();\", WebDriverWait(driver, 20).until(EC.element_to_be_clickable((By.CSS_SELECTOR, \"label[for='tab-target-group']\"))))\n",
    "\n",
    "target_result_rating=ratings()\n",
    "print(target_result_rating)\n",
    "\n",
    "#Actual Rating\n",
    "print(actual_rating())   \n",
    "\n",
    "#Conclusion of the model, header and paragraph\n",
    "conclusion_header = driver.find_element(By.XPATH, \"//div[@class='sc-bttaWv iYkiKq sc-kNzDjo fAMqTT sc-hWBuOZ sc-kLnunm dksvCW iCyXOG']/h2\").text\n",
    "conclusion_paragraph = driver.find_element(By.XPATH, \"//div[@class='sc-bttaWv iYkiKq sc-kNzDjo fAMqTT sc-hWBuOZ sc-kLnunm dksvCW iCyXOG']/p\").text\n",
    "\n",
    "#strength and weakness of the model\n",
    "print(strength_weakness())\n",
    "\n",
    "similar_models = {}\n",
    "related_header=driver.find_element(By.XPATH, \"//div[@class='sc-gqtqkP sc-ihINtW jxxFFm cRtkmj sc-jefHZX kyAaUw']/header\").text\n",
    "related_articles=driver.find_element(By.XPATH, \"//div[@class='sc-gqtqkP sc-ihINtW jxxFFm cRtkmj sc-jefHZX kyAaUw']/div/div\").text\n",
    "similar_models[related_header]=related_articles.split('\\n')\n",
    "print(similar_models)\n",
    "\n",
    "#driver.execute_script(\"return arguments[0].innerHTML;\",actual_rating)"
   ]
  },
  {
   "cell_type": "code",
   "execution_count": null,
   "metadata": {},
   "outputs": [],
   "source": []
  }
 ],
 "metadata": {
  "kernelspec": {
   "display_name": "Python 3",
   "language": "python",
   "name": "python3"
  },
  "language_info": {
   "codemirror_mode": {
    "name": "ipython",
    "version": 3
   },
   "file_extension": ".py",
   "mimetype": "text/x-python",
   "name": "python",
   "nbconvert_exporter": "python",
   "pygments_lexer": "ipython3",
   "version": "3.8.5"
  }
 },
 "nbformat": 4,
 "nbformat_minor": 4
}
