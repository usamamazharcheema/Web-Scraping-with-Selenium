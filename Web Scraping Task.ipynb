{
 "cells": [
  {
   "cell_type": "markdown",
   "metadata": {},
   "source": [
    "### Task"
   ]
  },
  {
   "cell_type": "markdown",
   "metadata": {},
   "source": [
    "Scrap following website: https://www.adac.de/rund-ums-fahrzeug/autokatalog/marken-modelle/ford/kuga/iii/310380/"
   ]
  },
  {
   "cell_type": "markdown",
   "metadata": {},
   "source": [
    "### Evaluation"
   ]
  },
  {
   "cell_type": "markdown",
   "metadata": {},
   "source": [
    "Key points to consider\n",
    "\n",
    "1. Your decision on what the important data is\n",
    "2. The data output of your choice\n",
    "3. The readability of your code"
   ]
  },
  {
   "cell_type": "markdown",
   "metadata": {},
   "source": [
    "<b>Time Spent:</b> approximately 6 hours"
   ]
  },
  {
   "cell_type": "markdown",
   "metadata": {},
   "source": [
    "Hi all,\n",
    "\n",
    "First I just wanted to mention few points according to my understanding.\n",
    "1. <b>Important data:</b> According to my understanding, importance of data depends on one's objective which he/she wants to achieve and then according to that, data scraping is done and insigts are gathered, for the given task, the decision needs to be made by us regarding the data importance, so I have scrapped the data according to my own thoughts. On the web page, data about Ford Kuga (III) model was presented in different forms such as textual data (e.g. title, conclusion of the model), tabular data (e.g. test result rating of the items) and in the form of images(e.g. model pictures). I have scrapped all form of data related to the existing model, as each one can be used to generate different information such as textual data can be useful for nlp related tasks and image data for computer vision. Each form of data has its own importance, below each form of data related to the Ford Kuga (III) model has been extracted which can be helpful to gather different insights. The reason to extract image data was, they also represent existing car model and can be useful especially for model classification related tasks, even we can extract pdf report to get useful information out of that but for the sake of task simiplicity, I didn't extract that.\n",
    "\n",
    "</br>\n",
    "\n",
    "2. <b>Data Output:</b> As we have different form of data, so we can save our data into different format such as tabular data in csv file or database, textual data in text file, but for better visualization, I have just displayed all in the notebook file.\n"
   ]
  },
  {
   "cell_type": "markdown",
   "metadata": {},
   "source": [
    "### Importing Libraries"
   ]
  },
  {
   "cell_type": "markdown",
   "metadata": {},
   "source": [
    "Please make sure that you have all used libraries installed, otherwise please install it with command: pip install library_name."
   ]
  },
  {
   "cell_type": "code",
   "execution_count": 1,
   "metadata": {},
   "outputs": [],
   "source": [
    "import pandas as pd\n",
    "import selenium\n",
    "from selenium import webdriver\n",
    "import time\n",
    "import os\n",
    "import io\n",
    "from PIL import Image\n",
    "import requests\n",
    "from webdriver_manager.chrome import ChromeDriverManager\n",
    "from selenium.webdriver.chrome.service import Service\n",
    "from selenium.webdriver.support.ui import WebDriverWait\n",
    "from selenium.webdriver.common.by import By\n",
    "from selenium.webdriver.support import expected_conditions as EC\n",
    "from selenium.common.exceptions import ElementClickInterceptedException"
   ]
  },
  {
   "cell_type": "markdown",
   "metadata": {},
   "source": [
    "### Install Chrome Driver"
   ]
  },
  {
   "cell_type": "code",
   "execution_count": 2,
   "metadata": {},
   "outputs": [
    {
     "name": "stderr",
     "output_type": "stream",
     "text": [
      "\n",
      "\n",
      "====== WebDriver manager ======\n",
      "Current google-chrome version is 100.0.4896\n",
      "Get LATEST chromedriver version for 100.0.4896 google-chrome\n",
      "Trying to download new driver from https://chromedriver.storage.googleapis.com/100.0.4896.60/chromedriver_win32.zip\n",
      "Driver has been saved in cache [C:\\Users\\Usama\\.wdm\\drivers\\chromedriver\\win32\\100.0.4896.60]\n"
     ]
    }
   ],
   "source": [
    "opts = webdriver.ChromeOptions()\n",
    "opts.headless = True\n",
    "\n",
    "driver = webdriver.Chrome(service=Service(ChromeDriverManager().install()) ,options=opts)"
   ]
  },
  {
   "cell_type": "markdown",
   "metadata": {},
   "source": [
    "### Specifying Web URL"
   ]
  },
  {
   "cell_type": "code",
   "execution_count": 3,
   "metadata": {},
   "outputs": [],
   "source": [
    "url = 'https://www.adac.de/rund-ums-fahrzeug/autokatalog/marken-modelle/ford/kuga/iii/310380/'\n",
    "if requests.get(url).status_code == 200:\n",
    "    driver.get(url)\n",
    "else:\n",
    "    print(\"please enter a valid url\")"
   ]
  },
  {
   "cell_type": "markdown",
   "metadata": {},
   "source": [
    "### A function to take the cursor to the end of the page"
   ]
  },
  {
   "cell_type": "code",
   "execution_count": 4,
   "metadata": {},
   "outputs": [],
   "source": [
    "def scroll_to_end(driver):\n",
    "    \n",
    "    driver.execute_script(\"window.scrollTo(0, document.body.scrollHeight);\")\n",
    "    time.sleep(3)"
   ]
  },
  {
   "cell_type": "markdown",
   "metadata": {},
   "source": [
    "### A fuction to get items from the path and store in a dictionary"
   ]
  },
  {
   "cell_type": "code",
   "execution_count": 5,
   "metadata": {},
   "outputs": [],
   "source": [
    "def get_data(path:str) -> dict:\n",
    "    \n",
    "    web_elements = driver.find_elements(By.XPATH,  path)\n",
    "    if web_elements:\n",
    "        if \"sc-hatQeL bGVFHQ\" in path:\n",
    "            web_elements = web_elements[1:]\n",
    "        items_dict = {element.text.split('\\n')[0]:element.text.split('\\n')[1] for element in web_elements}\n",
    "        return items_dict\n",
    "    else:\n",
    "        return \"No element found\""
   ]
  },
  {
   "cell_type": "markdown",
   "metadata": {},
   "source": [
    "### A fuction to get text from the path"
   ]
  },
  {
   "cell_type": "code",
   "execution_count": 6,
   "metadata": {},
   "outputs": [],
   "source": [
    "def get_element_text(path:str) -> str:\n",
    "    \n",
    "    web_element = driver.find_element(By.XPATH, path)\n",
    "    if web_element:\n",
    "        return web_element.text\n",
    "    else:\n",
    "        return \"No element found\""
   ]
  },
  {
   "cell_type": "markdown",
   "metadata": {},
   "source": [
    "### Called Methods to get textual information related to the model"
   ]
  },
  {
   "cell_type": "code",
   "execution_count": 7,
   "metadata": {},
   "outputs": [],
   "source": [
    "#Title of the model\n",
    "scroll_to_end(driver)\n",
    "car_title= get_element_text(path= \"//h1\")\n",
    "\n",
    "#Informations of the model\n",
    "model_info = get_data(path= \"//*[contains(@class, 'sc-bdvvtL goIptw sc-gsDKAQ sc-hXLIYv hIxhWw gDkLYR')]\")\n",
    "\n",
    "#test result text and date\n",
    "test_result_text=get_element_text(path= \"//div[@class='sc-eSxRXt sc-aaqME sc-gNUafA wROml itVlFP kULHUp']/h2\")\n",
    "test_result_date=get_element_text(path= \"//div[@class='sc-eSxRXt sc-aaqME sc-gNUafA wROml itVlFP kULHUp']/p\")\n",
    "\n",
    "#Conclusion of the model, header and paragraph\n",
    "conclusion_header = get_element_text(path= \"//div[@class='sc-bttaWv iYkiKq sc-kNzDjo fAMqTT sc-hWBuOZ sc-kLnunm dksvCW iCyXOG']/h2\")\n",
    "conclusion_paragraph = get_element_text(path= \"//div[@class='sc-bttaWv iYkiKq sc-kNzDjo fAMqTT sc-hWBuOZ sc-kLnunm dksvCW iCyXOG']/p\")\n",
    "\n",
    "#strength and weakness of the model\n",
    "strength_weakness = driver.find_elements(By.XPATH, \"//div[@class='sc-iRFsWr sc-eZhRLC sc-kudmJA gnrIkT gPaWAU iJATmX']/div\")\n",
    "\n",
    "# Similar models to the current model\n",
    "similar_header = get_element_text(path= \"//div[@class='sc-gqtqkP sc-ihINtW jxxFFm cRtkmj sc-jefHZX kyAaUw']/header\")\n",
    "similar_articles = get_element_text(path= \"//div[@class='sc-gqtqkP sc-ihINtW jxxFFm cRtkmj sc-jefHZX kyAaUw']/div/div\")\n",
    "similar_models = {similar_header: similar_articles.split('\\n')} "
   ]
  },
  {
   "cell_type": "markdown",
   "metadata": {},
   "source": [
    "### Called methods to get information related to rating of the items"
   ]
  },
  {
   "cell_type": "code",
   "execution_count": 8,
   "metadata": {},
   "outputs": [],
   "source": [
    "# Heading of both rating tabs\n",
    "rating_tabs_web_element = driver.find_elements(By.XPATH,  \"//*[contains(@class, 'sc-fUCuFg hQyzTx')]\")\n",
    "if rating_tabs_web_element:\n",
    "    tab_texts=[text.text for text in rating_tabs_web_element]\n",
    "else:\n",
    "    print(\"No element found\")\n",
    "\n",
    "# Rating of items in Testergebnis and Zielgruppencheck\n",
    "try:\n",
    "    driver.execute_script(\"arguments[0].click();\", WebDriverWait(driver, 5).until(EC.element_to_be_clickable((By.CSS_SELECTOR, \"label[for='tab-test-results']\"))))\n",
    "    test_result_rating=get_data(path= \"//dl[@class='sc-hatQeL bGVFHQ']/div\")\n",
    "    driver.execute_script(\"arguments[0].click();\", WebDriverWait(driver, 5).until(EC.element_to_be_clickable((By.CSS_SELECTOR, \"label[for='tab-target-group']\"))))\n",
    "    target_result_rating=get_data(path= \"//dl[@class='sc-hatQeL bGVFHQ']/div\")\n",
    "except ElementClickInterceptedException or ElementNotInteractableException as err:\n",
    "    print(err)\n",
    "    \n",
    "# Actual Rating Catagories\n",
    "truth_rating = get_data(path= \"//div[@class='sc-cCKzRf iHQIhw sc-iNpzLj icBbah']/div\")   "
   ]
  },
  {
   "cell_type": "markdown",
   "metadata": {},
   "source": [
    "### Getting Model images"
   ]
  },
  {
   "cell_type": "code",
   "execution_count": 9,
   "metadata": {},
   "outputs": [],
   "source": [
    "def getting_images(path:str):\n",
    "    time.sleep(2)\n",
    "    web_element_imgs = driver.find_elements(By.XPATH, path)\n",
    "    \n",
    "    if web_element_imgs:\n",
    "        for i, element in enumerate(web_element_imgs):\n",
    "            file_name = f\"{i:50}.jpg\"  \n",
    "            if element.get_attribute('src') and 'https' in element.get_attribute('src'):\n",
    "                url=element.get_attribute('src')\n",
    "                \n",
    "                try:\n",
    "                    image_content = requests.get(url).content\n",
    "                except Exception as e:\n",
    "                    print(f\"ERROR - COULD NOT DOWNLOAD {url} - {e}\")\n",
    "                    \n",
    "                try:\n",
    "                    image_file = io.BytesIO(image_content)\n",
    "                    image = Image.open(image_file).convert('RGB')\n",
    "                    with open(file_name, 'wb') as f:\n",
    "                        image.save(f, \"JPEG\", quality=85)  \n",
    "                except Exception as e:\n",
    "                    print(f\"ERROR - COULD NOT SAVE {url} - {e}\")\n",
    "                    \n",
    "        print(\"Saved all images in a default directory\")\n",
    "    else:\n",
    "        print(\"Images element not found\")"
   ]
  },
  {
   "cell_type": "markdown",
   "metadata": {},
   "source": [
    "### Displaying the output in a suitable form"
   ]
  },
  {
   "cell_type": "markdown",
   "metadata": {},
   "source": [
    "#### Brand and Model of the car and its information"
   ]
  },
  {
   "cell_type": "code",
   "execution_count": 10,
   "metadata": {},
   "outputs": [
    {
     "name": "stdout",
     "output_type": "stream",
     "text": [
      "\u001b[1mBrand and model of the car is: \u001b[0mFord Kuga 1.5 EcoBoost ST-Line X (04/20 - 09/20)\n"
     ]
    },
    {
     "data": {
      "text/html": [
       "<div>\n",
       "<style scoped>\n",
       "    .dataframe tbody tr th:only-of-type {\n",
       "        vertical-align: middle;\n",
       "    }\n",
       "\n",
       "    .dataframe tbody tr th {\n",
       "        vertical-align: top;\n",
       "    }\n",
       "\n",
       "    .dataframe thead th {\n",
       "        text-align: right;\n",
       "    }\n",
       "</style>\n",
       "<table border=\"1\" class=\"dataframe\">\n",
       "  <thead>\n",
       "    <tr style=\"text-align: right;\">\n",
       "      <th></th>\n",
       "      <th>Item</th>\n",
       "      <th>ItemValue</th>\n",
       "    </tr>\n",
       "  </thead>\n",
       "  <tbody>\n",
       "    <tr>\n",
       "      <th>0</th>\n",
       "      <td>Grundpreis</td>\n",
       "      <td>35.434 €</td>\n",
       "    </tr>\n",
       "    <tr>\n",
       "      <th>1</th>\n",
       "      <td>Kraftstoff</td>\n",
       "      <td>Super</td>\n",
       "    </tr>\n",
       "    <tr>\n",
       "      <th>2</th>\n",
       "      <td>Verbrauch</td>\n",
       "      <td>6,8 l/100 km</td>\n",
       "    </tr>\n",
       "    <tr>\n",
       "      <th>3</th>\n",
       "      <td>Leistung</td>\n",
       "      <td>110 kW (150 PS)</td>\n",
       "    </tr>\n",
       "  </tbody>\n",
       "</table>\n",
       "</div>"
      ],
      "text/plain": [
       "         Item        ItemValue\n",
       "0  Grundpreis         35.434 €\n",
       "1  Kraftstoff            Super\n",
       "2   Verbrauch     6,8 l/100 km\n",
       "3    Leistung  110 kW (150 PS)"
      ]
     },
     "execution_count": 10,
     "metadata": {},
     "output_type": "execute_result"
    }
   ],
   "source": [
    "print(\"\\033[1m\" + \"Brand and model of the car is: \" + \"\\033[0m\" + car_title)\n",
    "pd.DataFrame(model_info.items(), columns=['Item', 'ItemValue'])"
   ]
  },
  {
   "cell_type": "markdown",
   "metadata": {},
   "source": [
    "#### Testergebnis date"
   ]
  },
  {
   "cell_type": "code",
   "execution_count": 11,
   "metadata": {},
   "outputs": [
    {
     "name": "stdout",
     "output_type": "stream",
     "text": [
      "Testergebnis: April 2021\n"
     ]
    }
   ],
   "source": [
    "print(test_result_text + \": \" + test_result_date)"
   ]
  },
  {
   "cell_type": "markdown",
   "metadata": {},
   "source": [
    "#### Ratings in Testergebnis and Zielgruppencheck"
   ]
  },
  {
   "cell_type": "code",
   "execution_count": 12,
   "metadata": {},
   "outputs": [
    {
     "data": {
      "text/html": [
       "<div>\n",
       "<style scoped>\n",
       "    .dataframe tbody tr th:only-of-type {\n",
       "        vertical-align: middle;\n",
       "    }\n",
       "\n",
       "    .dataframe tbody tr th {\n",
       "        vertical-align: top;\n",
       "    }\n",
       "\n",
       "    .dataframe thead th {\n",
       "        text-align: right;\n",
       "    }\n",
       "</style>\n",
       "<table border=\"1\" class=\"dataframe\">\n",
       "  <thead>\n",
       "    <tr style=\"text-align: right;\">\n",
       "      <th></th>\n",
       "      <th>Testergebnis_Item</th>\n",
       "      <th>Testergebnis_ItemRating</th>\n",
       "      <th>Zielgruppencheck_Item</th>\n",
       "      <th>Zielgruppencheck_ItemRating</th>\n",
       "    </tr>\n",
       "  </thead>\n",
       "  <tbody>\n",
       "    <tr>\n",
       "      <th>0</th>\n",
       "      <td>Karosserie/Kofferraum</td>\n",
       "      <td>2,5</td>\n",
       "      <td>Familie</td>\n",
       "      <td>2,4</td>\n",
       "    </tr>\n",
       "    <tr>\n",
       "      <th>1</th>\n",
       "      <td>Innenraum</td>\n",
       "      <td>2,1</td>\n",
       "      <td>Stadtverkehr</td>\n",
       "      <td>4,3</td>\n",
       "    </tr>\n",
       "    <tr>\n",
       "      <th>2</th>\n",
       "      <td>Komfort</td>\n",
       "      <td>2,5</td>\n",
       "      <td>Senioren</td>\n",
       "      <td>3,1</td>\n",
       "    </tr>\n",
       "    <tr>\n",
       "      <th>3</th>\n",
       "      <td>Motor/Antrieb</td>\n",
       "      <td>1,9</td>\n",
       "      <td>Langstrecke</td>\n",
       "      <td>2,6</td>\n",
       "    </tr>\n",
       "    <tr>\n",
       "      <th>4</th>\n",
       "      <td>Fahreigenschaften</td>\n",
       "      <td>2,4</td>\n",
       "      <td>Transport</td>\n",
       "      <td>2,3</td>\n",
       "    </tr>\n",
       "    <tr>\n",
       "      <th>5</th>\n",
       "      <td>Sicherheit</td>\n",
       "      <td>1,6</td>\n",
       "      <td>Fahrspaß</td>\n",
       "      <td>3,1</td>\n",
       "    </tr>\n",
       "    <tr>\n",
       "      <th>6</th>\n",
       "      <td>Umwelt/EcoTest</td>\n",
       "      <td>3,1</td>\n",
       "      <td>Preis/Leistung</td>\n",
       "      <td>2,4</td>\n",
       "    </tr>\n",
       "  </tbody>\n",
       "</table>\n",
       "</div>"
      ],
      "text/plain": [
       "       Testergebnis_Item Testergebnis_ItemRating Zielgruppencheck_Item  \\\n",
       "0  Karosserie/Kofferraum                     2,5               Familie   \n",
       "1              Innenraum                     2,1          Stadtverkehr   \n",
       "2                Komfort                     2,5              Senioren   \n",
       "3          Motor/Antrieb                     1,9           Langstrecke   \n",
       "4      Fahreigenschaften                     2,4             Transport   \n",
       "5             Sicherheit                     1,6              Fahrspaß   \n",
       "6         Umwelt/EcoTest                     3,1        Preis/Leistung   \n",
       "\n",
       "  Zielgruppencheck_ItemRating  \n",
       "0                         2,4  \n",
       "1                         4,3  \n",
       "2                         3,1  \n",
       "3                         2,6  \n",
       "4                         2,3  \n",
       "5                         3,1  \n",
       "6                         2,4  "
      ]
     },
     "metadata": {},
     "output_type": "display_data"
    },
    {
     "data": {
      "text/html": [
       "<div>\n",
       "<style scoped>\n",
       "    .dataframe tbody tr th:only-of-type {\n",
       "        vertical-align: middle;\n",
       "    }\n",
       "\n",
       "    .dataframe tbody tr th {\n",
       "        vertical-align: top;\n",
       "    }\n",
       "\n",
       "    .dataframe thead th {\n",
       "        text-align: right;\n",
       "    }\n",
       "</style>\n",
       "<table border=\"1\" class=\"dataframe\">\n",
       "  <thead>\n",
       "    <tr style=\"text-align: right;\">\n",
       "      <th></th>\n",
       "      <th>Item</th>\n",
       "      <th>ItemRating</th>\n",
       "    </tr>\n",
       "  </thead>\n",
       "  <tbody>\n",
       "    <tr>\n",
       "      <th>0</th>\n",
       "      <td>ADAC Urteil Autotest</td>\n",
       "      <td>2,3</td>\n",
       "    </tr>\n",
       "    <tr>\n",
       "      <th>1</th>\n",
       "      <td>Autokosten</td>\n",
       "      <td>2,5</td>\n",
       "    </tr>\n",
       "  </tbody>\n",
       "</table>\n",
       "</div>"
      ],
      "text/plain": [
       "                   Item ItemRating\n",
       "0  ADAC Urteil Autotest        2,3\n",
       "1            Autokosten        2,5"
      ]
     },
     "metadata": {},
     "output_type": "display_data"
    },
    {
     "data": {
      "text/html": [
       "<div>\n",
       "<style scoped>\n",
       "    .dataframe tbody tr th:only-of-type {\n",
       "        vertical-align: middle;\n",
       "    }\n",
       "\n",
       "    .dataframe tbody tr th {\n",
       "        vertical-align: top;\n",
       "    }\n",
       "\n",
       "    .dataframe thead th {\n",
       "        text-align: right;\n",
       "    }\n",
       "</style>\n",
       "<table border=\"1\" class=\"dataframe\">\n",
       "  <thead>\n",
       "    <tr style=\"text-align: right;\">\n",
       "      <th></th>\n",
       "      <th>Catagory</th>\n",
       "      <th>Value</th>\n",
       "    </tr>\n",
       "  </thead>\n",
       "  <tbody>\n",
       "    <tr>\n",
       "      <th>0</th>\n",
       "      <td>sehr gut</td>\n",
       "      <td>0,6 - 1,5</td>\n",
       "    </tr>\n",
       "    <tr>\n",
       "      <th>1</th>\n",
       "      <td>gut</td>\n",
       "      <td>1,6 - 2,5</td>\n",
       "    </tr>\n",
       "    <tr>\n",
       "      <th>2</th>\n",
       "      <td>befriedigend</td>\n",
       "      <td>2,6 - 3,5</td>\n",
       "    </tr>\n",
       "    <tr>\n",
       "      <th>3</th>\n",
       "      <td>ausreichend</td>\n",
       "      <td>3,6 - 4,5</td>\n",
       "    </tr>\n",
       "    <tr>\n",
       "      <th>4</th>\n",
       "      <td>mangelhaft</td>\n",
       "      <td>4,6 - 5,5</td>\n",
       "    </tr>\n",
       "  </tbody>\n",
       "</table>\n",
       "</div>"
      ],
      "text/plain": [
       "       Catagory      Value\n",
       "0      sehr gut  0,6 - 1,5\n",
       "1           gut  1,6 - 2,5\n",
       "2  befriedigend  2,6 - 3,5\n",
       "3   ausreichend  3,6 - 4,5\n",
       "4    mangelhaft  4,6 - 5,5"
      ]
     },
     "metadata": {},
     "output_type": "display_data"
    }
   ],
   "source": [
    "df_testergebnis = pd.DataFrame(test_result_rating.items(), columns=['Testergebnis_Item', 'Testergebnis_ItemRating'])\n",
    "df_zielgruppencheck = pd.DataFrame(target_result_rating.items(), columns=['Zielgruppencheck_Item', 'Zielgruppencheck_ItemRating'])\n",
    "result = pd.concat([df_testergebnis[0:7], df_zielgruppencheck [0:7]], axis=1, join='inner')\n",
    "\n",
    "rating_catagories = pd.DataFrame(truth_rating.items(), columns=['Catagory', 'Value'])\n",
    "df_common = df_testergebnis[7:].rename({'Testergebnis_Item': 'Item', 'Testergebnis_ItemRating': 'ItemRating'}, axis=1).reset_index(drop=True)\n",
    "\n",
    "display(result)\n",
    "display(df_common)\n",
    "display(rating_catagories)"
   ]
  },
  {
   "cell_type": "markdown",
   "metadata": {},
   "source": [
    "#### Stärken und Schwächen of the model"
   ]
  },
  {
   "cell_type": "code",
   "execution_count": 13,
   "metadata": {},
   "outputs": [
    {
     "name": "stdout",
     "output_type": "stream",
     "text": [
      "\n",
      "\u001b[1mStärken:\u001b[0m\n",
      "Navigationssystem Serie\n",
      "praktischer Türkantenschutz\n",
      "umfangreiche Sicherheitsausstattung\n",
      "\n",
      "\u001b[1mSchwächen:\u001b[0m\n",
      "im Grenzbereich zu starkes Untersteuern, besteht ADAC Ausweichtest nicht\n",
      "hoher Verbrauch\n"
     ]
    }
   ],
   "source": [
    "if strength_weakness:\n",
    "    strenth_weak_elememts = {item.text.split(\"\\n\")[0]: item.text.split(\"\\n\")[1:] for item in strength_weakness}\n",
    "    for header, elements in strenth_weak_elememts.items():\n",
    "        print(\"\\n\\033[1m\" + header + \":\\033[0m\")\n",
    "        for element in elements:\n",
    "            print(element)\n",
    "else:\n",
    "    print(\"strength and weakness of model not found\")"
   ]
  },
  {
   "cell_type": "markdown",
   "metadata": {},
   "source": [
    "#### Conclusion of the model"
   ]
  },
  {
   "cell_type": "code",
   "execution_count": 14,
   "metadata": {},
   "outputs": [
    {
     "name": "stdout",
     "output_type": "stream",
     "text": [
      "\u001b[1mFazit zum Ford Kuga 1.5 EcoBoost ST-Line X (04/20 - 09/20):\n",
      " \u001b[0m\n",
      "Die SUV-Welle schwappt schon einige Zeit um die Welt, dementsprechend ist der 2019 vorgestellte Ford Kuga tatsächlich schon in der dritten Generation auf dem Markt. Er basiert auf der C2 genannten Plattform des Herstellers, die auch vom Ford Focus genutzt wird. Äußerlich nicht gleich zu erkennen, merkt man beim Blick auf das Armaturenbrett, dass der Focus verwandt sein muss: Nur Experten könnten ohne Vergleich spontan sagen, in welchem Auto sie sich befinden. Der Kuga bietet im Vergleich zum Focus die höhere Sitzposition, aber auch die höhere Ladekante. Alles wie vom SUV erwartet also. Gerade in der getesteten Ausstattung ST-Line X trägt der Kuga äußerlich dick auf und will sportliche Naturen ansprechen, die uns deutlich zu nervös ansprechende Lenkung und das ST-Line-Sportfahrwerk sollen wohl in die gleiche Kerbe schlagen. Fordert man den Kuga dann aber, wie etwa im ADAC Ausweichtest, flüchtet er sich in starkes Untersteuern und will nicht so recht einlenken. Schade, denn auf kurvigen Landstraßen und mit mäßiger Geschwindigkeit vermittelt der Kuga schon eine gute Präzision. Ebenfalls gefällt wieder der aus dem Focus bekannte Dreizylinder mit 1,5 Liter Hubraum. Nicht nur für einen Dreizylinder ist er äußerst laufruhig, zudem bei Bedarf spurtstark. Nur bei ganz niedrigen Drehzahlen muss der Turbomotor erst Luft holen. War der Motor aber schon im Focus nicht der sparsamste, schlägt er im SUV-Gewand über die Stränge: 7,7 Liter Ecotest-Verbrauch sind heutzutage für einen 150 PS-Benziner zu viel. Die Konkurrenz verbraucht hier gern mal einen Liter weniger. Insgesamt ist der Kuga kein schlechtes Auto geworden - die Konkurrenz ist im Segment der kompakten SUV aber einfach zu groß. Der Ford kann sich hier nicht so recht absetzen.\n"
     ]
    }
   ],
   "source": [
    "print(\"\\033[1m\" + conclusion_header + \":\\n \\033[0m\")\n",
    "print(conclusion_paragraph)"
   ]
  },
  {
   "cell_type": "markdown",
   "metadata": {},
   "source": [
    "#### Similar models to the current model"
   ]
  },
  {
   "cell_type": "code",
   "execution_count": 15,
   "metadata": {},
   "outputs": [
    {
     "name": "stdout",
     "output_type": "stream",
     "text": [
      "\u001b[1mAuswahl ähnlicher Modelle:\u001b[0m\n",
      "Suzuki SX4\n",
      "BMW X2\n",
      "SsangYong Korando\n",
      "VW T-Roc\n"
     ]
    }
   ],
   "source": [
    "print(\"\\033[1m\" + similar_header + \":\\033[0m\")\n",
    "print(similar_articles)"
   ]
  },
  {
   "cell_type": "markdown",
   "metadata": {},
   "source": [
    "#### Getting Model Images"
   ]
  },
  {
   "cell_type": "code",
   "execution_count": 16,
   "metadata": {},
   "outputs": [
    {
     "name": "stdout",
     "output_type": "stream",
     "text": [
      "Saved all images in a default directory\n"
     ]
    }
   ],
   "source": [
    "getting_images(path= \"//div[contains(@class, 'sc-jvvksu kiAtge sc-iWBNLc sc-inrDdN dyHdxL dUQZlk')]/picture/img\")"
   ]
  },
  {
   "cell_type": "code",
   "execution_count": 17,
   "metadata": {},
   "outputs": [],
   "source": [
    "driver.close()"
   ]
  },
  {
   "cell_type": "markdown",
   "metadata": {},
   "source": [
    "## THE END"
   ]
  }
 ],
 "metadata": {
  "kernelspec": {
   "display_name": "Python 3",
   "language": "python",
   "name": "python3"
  },
  "language_info": {
   "codemirror_mode": {
    "name": "ipython",
    "version": 3
   },
   "file_extension": ".py",
   "mimetype": "text/x-python",
   "name": "python",
   "nbconvert_exporter": "python",
   "pygments_lexer": "ipython3",
   "version": "3.8.5"
  }
 },
 "nbformat": 4,
 "nbformat_minor": 4
}
